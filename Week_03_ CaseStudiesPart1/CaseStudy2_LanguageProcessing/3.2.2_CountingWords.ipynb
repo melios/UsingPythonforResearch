{
 "cells": [
  {
   "cell_type": "code",
   "execution_count": 29,
   "metadata": {
    "collapsed": true
   },
   "outputs": [],
   "source": [
    "#test string\n",
    "test = 'This is my test text. We are keeping this text to keep this manageable.'"
   ]
  },
  {
   "cell_type": "code",
   "execution_count": 30,
   "metadata": {
    "collapsed": true
   },
   "outputs": [],
   "source": [
    "def count_words(text):\n",
    "    '''Count the number of times each word occurs in text (str).\n",
    "    Return dictionary where keys are unique words and values are\n",
    "    word counts'''\n",
    "    word_counts = {}\n",
    "    for word in text.split(\" \"):\n",
    "        #known word\n",
    "        if word in word_counts:\n",
    "            word_counts[word] +=1 \n",
    "        #unknown word\n",
    "        else:\n",
    "            word_counts[word] = 1\n",
    "    return word_counts"
   ]
  },
  {
   "cell_type": "code",
   "execution_count": 31,
   "metadata": {
    "collapsed": false
   },
   "outputs": [
    {
     "data": {
      "text/plain": [
       "{'This': 1,\n",
       " 'We': 1,\n",
       " 'are': 1,\n",
       " 'is': 1,\n",
       " 'keep': 1,\n",
       " 'keeping': 1,\n",
       " 'manageable.': 1,\n",
       " 'my': 1,\n",
       " 'test': 1,\n",
       " 'text': 1,\n",
       " 'text.': 1,\n",
       " 'this': 2,\n",
       " 'to': 1}"
      ]
     },
     "execution_count": 31,
     "metadata": {},
     "output_type": "execute_result"
    }
   ],
   "source": [
    "count_words(test)"
   ]
  },
  {
   "cell_type": "code",
   "execution_count": 32,
   "metadata": {
    "collapsed": true
   },
   "outputs": [],
   "source": [
    "def count_words(text):\n",
    "    '''Count the number of times each word occurs in text (str).\n",
    "    Return dictionary where keys are unique words and values are\n",
    "    word counts. Skips punctuation'''\n",
    "    \n",
    "    #lower case letters\n",
    "    text = text.lower()\n",
    "    \n",
    "    #skip punctuation\n",
    "    skips = ['.', ':', ';', \"'\", '\"']\n",
    "    for ch in skips:\n",
    "        text = text.replace(ch, \"\")\n",
    "    \n",
    "    word_counts = {}\n",
    "    for word in text.split(\" \"):\n",
    "        #known word\n",
    "        if word in word_counts:\n",
    "            word_counts[word] +=1 \n",
    "        #unknown word\n",
    "        else:\n",
    "            word_counts[word] = 1\n",
    "    return word_counts"
   ]
  },
  {
   "cell_type": "code",
   "execution_count": 33,
   "metadata": {
    "collapsed": false
   },
   "outputs": [
    {
     "data": {
      "text/plain": [
       "{'are': 1,\n",
       " 'is': 1,\n",
       " 'keep': 1,\n",
       " 'keeping': 1,\n",
       " 'manageable': 1,\n",
       " 'my': 1,\n",
       " 'test': 1,\n",
       " 'text': 2,\n",
       " 'this': 3,\n",
       " 'to': 1,\n",
       " 'we': 1}"
      ]
     },
     "execution_count": 33,
     "metadata": {},
     "output_type": "execute_result"
    }
   ],
   "source": [
    "count_words(test)"
   ]
  },
  {
   "cell_type": "code",
   "execution_count": 34,
   "metadata": {
    "collapsed": false
   },
   "outputs": [],
   "source": [
    "from collections import Counter\n",
    "\n",
    "def count_words_fast(text):\n",
    "    '''Count the number of times each word occurs in text (str).\n",
    "    Return dictionary where keys are unique words and values are\n",
    "    word counts. Skips punctuation'''\n",
    "    \n",
    "    #lower case letters\n",
    "    text = text.lower()\n",
    "    \n",
    "    #skip punctuation\n",
    "    skips = ['.', ':', ';', \"'\", '\"']\n",
    "    for ch in skips:\n",
    "        text = text.replace(ch, \"\")\n",
    "    \n",
    "    word_counts = Counter(text.split(' '))\n",
    "    return word_counts"
   ]
  },
  {
   "cell_type": "code",
   "execution_count": 35,
   "metadata": {
    "collapsed": false
   },
   "outputs": [
    {
     "data": {
      "text/plain": [
       "Counter({'are': 1,\n",
       "         'is': 1,\n",
       "         'keep': 1,\n",
       "         'keeping': 1,\n",
       "         'manageable': 1,\n",
       "         'my': 1,\n",
       "         'test': 1,\n",
       "         'text': 2,\n",
       "         'this': 3,\n",
       "         'to': 1,\n",
       "         'we': 1})"
      ]
     },
     "execution_count": 35,
     "metadata": {},
     "output_type": "execute_result"
    }
   ],
   "source": [
    "count_words_fast(test)"
   ]
  },
  {
   "cell_type": "code",
   "execution_count": 36,
   "metadata": {
    "collapsed": false
   },
   "outputs": [
    {
     "data": {
      "text/plain": [
       "True"
      ]
     },
     "execution_count": 36,
     "metadata": {},
     "output_type": "execute_result"
    }
   ],
   "source": [
    "count_words_fast(test) == count_words(test)"
   ]
  },
  {
   "cell_type": "code",
   "execution_count": 37,
   "metadata": {
    "collapsed": false
   },
   "outputs": [
    {
     "data": {
      "text/plain": [
       "6"
      ]
     },
     "execution_count": 37,
     "metadata": {},
     "output_type": "execute_result"
    }
   ],
   "source": [
    "len(count_words(\"This comprehension check is to check for comprehension.\"))"
   ]
  },
  {
   "cell_type": "code",
   "execution_count": 40,
   "metadata": {
    "collapsed": false
   },
   "outputs": [
    {
     "data": {
      "text/plain": [
       "False"
      ]
     },
     "execution_count": 40,
     "metadata": {},
     "output_type": "execute_result"
    }
   ],
   "source": [
    "text = 'This comprehension check is to check for comprehension.'\n",
    "count_words(text) is count_words_fast(text)"
   ]
  },
  {
   "cell_type": "code",
   "execution_count": 41,
   "metadata": {
    "collapsed": false
   },
   "outputs": [
    {
     "data": {
      "text/plain": [
       "True"
      ]
     },
     "execution_count": 41,
     "metadata": {},
     "output_type": "execute_result"
    }
   ],
   "source": [
    "text = 'This comprehension check is to check for comprehension.'\n",
    "count_words(text) == count_words_fast(text)"
   ]
  }
 ],
 "metadata": {
  "anaconda-cloud": {},
  "kernelspec": {
   "display_name": "Python [conda root]",
   "language": "python",
   "name": "conda-root-py"
  },
  "language_info": {
   "codemirror_mode": {
    "name": "ipython",
    "version": 3.0
   },
   "file_extension": ".py",
   "mimetype": "text/x-python",
   "name": "python",
   "nbconvert_exporter": "python",
   "pygments_lexer": "ipython3",
   "version": "3.5.2"
  }
 },
 "nbformat": 4,
 "nbformat_minor": 0
}