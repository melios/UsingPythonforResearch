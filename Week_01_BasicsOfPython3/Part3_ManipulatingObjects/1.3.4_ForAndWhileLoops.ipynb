{
 "cells": [
  {
   "cell_type": "code",
   "execution_count": 1,
   "metadata": {
    "collapsed": false
   },
   "outputs": [
    {
     "name": "stdout",
     "output_type": "stream",
     "text": [
      "0\n",
      "1\n",
      "2\n",
      "3\n",
      "4\n",
      "5\n",
      "6\n",
      "7\n",
      "8\n",
      "9\n"
     ]
    }
   ],
   "source": [
    "for x in range(10):\n",
    "    print(x)"
   ]
  },
  {
   "cell_type": "code",
   "execution_count": 2,
   "metadata": {
    "collapsed": true
   },
   "outputs": [],
   "source": [
    "names = ['Jim', 'Tom', 'Nick' ,'Pam', 'Sam' ,'Tim' ,'Melios']"
   ]
  },
  {
   "cell_type": "code",
   "execution_count": 3,
   "metadata": {
    "collapsed": false
   },
   "outputs": [
    {
     "name": "stdout",
     "output_type": "stream",
     "text": [
      "Jim\n",
      "Tom\n",
      "Nick\n",
      "Pam\n",
      "Sam\n",
      "Tim\n",
      "Melios\n"
     ]
    }
   ],
   "source": [
    "for name in names:\n",
    "    print (name)"
   ]
  },
  {
   "cell_type": "code",
   "execution_count": 4,
   "metadata": {
    "collapsed": false
   },
   "outputs": [
    {
     "name": "stdout",
     "output_type": "stream",
     "text": [
      "Jim\n",
      "Tom\n",
      "Nick\n",
      "Pam\n",
      "Sam\n",
      "Tim\n",
      "Melios\n"
     ]
    }
   ],
   "source": [
    "for i in range(len(names)):\n",
    "    print (names[i])"
   ]
  },
  {
   "cell_type": "code",
   "execution_count": 5,
   "metadata": {
    "collapsed": true
   },
   "outputs": [],
   "source": [
    "age = {'Jim':21, 'Nick':31, 'Pam':27, 'Sam':35, 'Tim':51, 'Tom':50}"
   ]
  },
  {
   "cell_type": "code",
   "execution_count": 6,
   "metadata": {
    "collapsed": false
   },
   "outputs": [
    {
     "data": {
      "text/plain": [
       "dict_keys(['Pam', 'Tom', 'Nick', 'Jim', 'Sam', 'Tim'])"
      ]
     },
     "execution_count": 6,
     "metadata": {},
     "output_type": "execute_result"
    }
   ],
   "source": [
    "age.keys()"
   ]
  },
  {
   "cell_type": "code",
   "execution_count": 7,
   "metadata": {
    "collapsed": false
   },
   "outputs": [
    {
     "data": {
      "text/plain": [
       "dict_values([27, 50, 31, 21, 35, 51])"
      ]
     },
     "execution_count": 7,
     "metadata": {},
     "output_type": "execute_result"
    }
   ],
   "source": [
    "age.values()"
   ]
  },
  {
   "cell_type": "code",
   "execution_count": 9,
   "metadata": {
    "collapsed": false
   },
   "outputs": [
    {
     "data": {
      "text/plain": [
       "51"
      ]
     },
     "execution_count": 9,
     "metadata": {},
     "output_type": "execute_result"
    }
   ],
   "source": [
    "age['Tim']"
   ]
  },
  {
   "cell_type": "code",
   "execution_count": 8,
   "metadata": {
    "collapsed": false
   },
   "outputs": [
    {
     "name": "stdout",
     "output_type": "stream",
     "text": [
      "Pam 27\n",
      "Tom 50\n",
      "Nick 31\n",
      "Jim 21\n",
      "Sam 35\n",
      "Tim 51\n"
     ]
    }
   ],
   "source": [
    "for name in age.keys():\n",
    "    print( name, age[name])"
   ]
  },
  {
   "cell_type": "code",
   "execution_count": 10,
   "metadata": {
    "collapsed": false
   },
   "outputs": [
    {
     "name": "stdout",
     "output_type": "stream",
     "text": [
      "Pam 27\n",
      "Tom 50\n",
      "Nick 31\n",
      "Jim 21\n",
      "Sam 35\n",
      "Tim 51\n"
     ]
    }
   ],
   "source": [
    "for name in age:\n",
    "    print( name, age[name])"
   ]
  },
  {
   "cell_type": "code",
   "execution_count": 11,
   "metadata": {
    "collapsed": false
   },
   "outputs": [
    {
     "name": "stdout",
     "output_type": "stream",
     "text": [
      "Jim 21\n",
      "Nick 31\n",
      "Pam 27\n",
      "Sam 35\n",
      "Tim 51\n",
      "Tom 50\n"
     ]
    }
   ],
   "source": [
    "for name in sorted(age):\n",
    "    print(name, age[name])\n",
    "    "
   ]
  },
  {
   "cell_type": "code",
   "execution_count": 12,
   "metadata": {
    "collapsed": false
   },
   "outputs": [
    {
     "name": "stdout",
     "output_type": "stream",
     "text": [
      "Tom 50\n",
      "Tim 51\n",
      "Sam 35\n",
      "Pam 27\n",
      "Nick 31\n",
      "Jim 21\n"
     ]
    }
   ],
   "source": [
    "for name in sorted(age, reverse = True):\n",
    "    print(name, age[name])"
   ]
  },
  {
   "cell_type": "code",
   "execution_count": 14,
   "metadata": {
    "collapsed": false
   },
   "outputs": [
    {
     "name": "stdout",
     "output_type": "stream",
     "text": [
      "Tom 50\n",
      "Tim 51\n",
      "Sam 35\n",
      "Pam 27\n",
      "Nick 31\n",
      "Jim 21\n"
     ]
    }
   ],
   "source": [
    "for name in sorted(age.keys(), reverse = True):\n",
    "    print(name, age[name])"
   ]
  },
  {
   "cell_type": "raw",
   "metadata": {},
   "source": [
    "Consider bears = {\"Grizzly\":\"angry\", \"Brown\":\"friendly\", \"Polar\":\"friendly\"}. \n",
    "\n",
    "Can you replace #blank# so the code will print a greeting only to friendly bears?\n",
    "\n",
    "for bear in bears:\n",
    "  if #blank#:\n",
    "   print(\"Hello, \"+bear+\" bear!\")\n",
    "else:\n",
    "  print(\"odd\")\n",
    "  "
   ]
  },
  {
   "cell_type": "code",
   "execution_count": 15,
   "metadata": {
    "collapsed": true
   },
   "outputs": [],
   "source": [
    "bears = {\"Grizzly\":\"angry\", \"Brown\":\"friendly\", \"Polar\":\"friendly\"}"
   ]
  },
  {
   "cell_type": "code",
   "execution_count": 22,
   "metadata": {
    "collapsed": false
   },
   "outputs": [
    {
     "name": "stdout",
     "output_type": "stream",
     "text": [
      "odd\n",
      "Hello, Polarbear!\n",
      "Hello, Brownbear!\n"
     ]
    }
   ],
   "source": [
    "for bear in bears:\n",
    "    if bears[bear] == 'friendly':\n",
    "        print('Hello, ' + bear +   'bear!')\n",
    "    else:\n",
    "        print('odd')"
   ]
  },
  {
   "cell_type": "code",
   "execution_count": null,
   "metadata": {
    "collapsed": true
   },
   "outputs": [],
   "source": [
    "Consider the following code:\n",
    "\n",
    "is_prime = True\n",
    "for i in range(2,n):\n",
    "   if n%i == 0:\n",
    "     #blank#\n",
    "print(is_prime)\n",
    "\n",
    "Can you fill in the #blank# line so the code will only print True if n is prime?"
   ]
  },
  {
   "cell_type": "code",
   "execution_count": 80,
   "metadata": {
    "collapsed": false
   },
   "outputs": [
    {
     "name": "stdout",
     "output_type": "stream",
     "text": [
      "False\n"
     ]
    }
   ],
   "source": [
    "is_prime = True\n",
    "n=88\n",
    "for i in range(2,n):\n",
    "   if n%i == 0:\n",
    "    is_prime = False\n",
    "print(is_prime)"
   ]
  },
  {
   "cell_type": "code",
   "execution_count": 83,
   "metadata": {
    "collapsed": false
   },
   "outputs": [
    {
     "data": {
      "text/plain": [
       "False"
      ]
     },
     "execution_count": 83,
     "metadata": {},
     "output_type": "execute_result"
    }
   ],
   "source": [
    "n = 88\n",
    "not any([n%i==0 for i in range(2,n)])"
   ]
  },
  {
   "cell_type": "code",
   "execution_count": 36,
   "metadata": {
    "collapsed": false
   },
   "outputs": [
    {
     "name": "stdout",
     "output_type": "stream",
     "text": [
      "7\n"
     ]
    }
   ],
   "source": [
    "n=100\n",
    "number_of_times = 0\n",
    "while n >= 1:\n",
    "   n /= 2\n",
    "   number_of_times += 1\n",
    "print(number_of_times)"
   ]
  },
  {
   "cell_type": "code",
   "execution_count": null,
   "metadata": {
    "collapsed": true
   },
   "outputs": [],
   "source": []
  }
 ],
 "metadata": {
  "anaconda-cloud": {},
  "kernelspec": {
   "display_name": "Python [default]",
   "language": "python",
   "name": "python3"
  },
  "language_info": {
   "codemirror_mode": {
    "name": "ipython",
    "version": 3
   },
   "file_extension": ".py",
   "mimetype": "text/x-python",
   "name": "python",
   "nbconvert_exporter": "python",
   "pygments_lexer": "ipython3",
   "version": "3.5.2"
  }
 },
 "nbformat": 4,
 "nbformat_minor": 1
}
