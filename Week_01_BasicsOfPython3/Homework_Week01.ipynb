{
 "cells": [
  {
   "cell_type": "markdown",
   "metadata": {},
   "source": [
    "In this five-part exercise, we will count the frequency of each letter in a given string."
   ]
  },
  {
   "cell_type": "markdown",
   "metadata": {},
   "source": [
    "# Exercise 1a"
   ]
  },
  {
   "cell_type": "markdown",
   "metadata": {},
   "source": [
    "In this five-part exercise, we will count the frequency of each letter in a given string.\n",
    "\n",
    "Instructions\n",
    "\n",
    "    Import the string library.\n",
    "    Create a variable alphabet that consists of the lowercase and uppercase letters in the English alphabet \n",
    "    using the ascii_letters attribute of the string library.\n",
    "\n"
   ]
  },
  {
   "cell_type": "code",
   "execution_count": 1,
   "metadata": {
    "collapsed": true
   },
   "outputs": [],
   "source": [
    "import string"
   ]
  },
  {
   "cell_type": "code",
   "execution_count": 2,
   "metadata": {
    "collapsed": true
   },
   "outputs": [],
   "source": [
    "alphabet = string.ascii_letters"
   ]
  },
  {
   "cell_type": "code",
   "execution_count": 3,
   "metadata": {
    "collapsed": false
   },
   "outputs": [
    {
     "data": {
      "text/plain": [
       "'abcdefghijklmnopqrstuvwxyzABCDEFGHIJKLMNOPQRSTUVWXYZ'"
      ]
     },
     "execution_count": 3,
     "metadata": {},
     "output_type": "execute_result"
    }
   ],
   "source": [
    "alphabet"
   ]
  },
  {
   "cell_type": "markdown",
   "metadata": {},
   "source": [
    "# Exercise 1b"
   ]
  },
  {
   "cell_type": "markdown",
   "metadata": {},
   "source": [
    "Instructions\n",
    "\n",
    "    The lower and upper cases of the English alphabet is stored as alphabet.\n",
    "    Consider the sentence 'Jim quickly realized that the beautiful gowns are expensive'. \n",
    "    Create a dictionary count_letters with keys consisting of each unique letter in the sentence \n",
    "    and values consisting of the number of times each letter is used in this sentence. \n",
    "    Count both upper case and lower case letters separately in the dictionary.\n"
   ]
  },
  {
   "cell_type": "code",
   "execution_count": 4,
   "metadata": {
    "collapsed": true
   },
   "outputs": [],
   "source": [
    "sentence = 'Jim quickly realized that the beautiful gowns are expensive'"
   ]
  },
  {
   "cell_type": "code",
   "execution_count": 5,
   "metadata": {
    "collapsed": true
   },
   "outputs": [],
   "source": [
    "count_letters = {}"
   ]
  },
  {
   "cell_type": "code",
   "execution_count": 6,
   "metadata": {
    "collapsed": true
   },
   "outputs": [],
   "source": [
    "import collections"
   ]
  },
  {
   "cell_type": "code",
   "execution_count": 7,
   "metadata": {
    "collapsed": false
   },
   "outputs": [],
   "source": [
    "count_letters = dict(collections.Counter(sentence))"
   ]
  },
  {
   "cell_type": "code",
   "execution_count": 8,
   "metadata": {
    "collapsed": false
   },
   "outputs": [
    {
     "data": {
      "text/plain": [
       "{' ': 8,\n",
       " 'J': 1,\n",
       " 'a': 4,\n",
       " 'b': 1,\n",
       " 'c': 1,\n",
       " 'd': 1,\n",
       " 'e': 8,\n",
       " 'f': 1,\n",
       " 'g': 1,\n",
       " 'h': 2,\n",
       " 'i': 5,\n",
       " 'k': 1,\n",
       " 'l': 3,\n",
       " 'm': 1,\n",
       " 'n': 2,\n",
       " 'o': 1,\n",
       " 'p': 1,\n",
       " 'q': 1,\n",
       " 'r': 2,\n",
       " 's': 2,\n",
       " 't': 4,\n",
       " 'u': 3,\n",
       " 'v': 1,\n",
       " 'w': 1,\n",
       " 'x': 1,\n",
       " 'y': 1,\n",
       " 'z': 1}"
      ]
     },
     "execution_count": 8,
     "metadata": {},
     "output_type": "execute_result"
    }
   ],
   "source": [
    "count_letters"
   ]
  },
  {
   "cell_type": "code",
   "execution_count": 9,
   "metadata": {
    "collapsed": false
   },
   "outputs": [
    {
     "data": {
      "text/plain": [
       "dict"
      ]
     },
     "execution_count": 9,
     "metadata": {},
     "output_type": "execute_result"
    }
   ],
   "source": [
    "type(count_letters)"
   ]
  },
  {
   "cell_type": "code",
   "execution_count": 10,
   "metadata": {
    "collapsed": false
   },
   "outputs": [
    {
     "data": {
      "text/plain": [
       "8"
      ]
     },
     "execution_count": 10,
     "metadata": {},
     "output_type": "execute_result"
    }
   ],
   "source": [
    "count_letters.pop(' ')"
   ]
  },
  {
   "cell_type": "code",
   "execution_count": 11,
   "metadata": {
    "collapsed": false
   },
   "outputs": [
    {
     "data": {
      "text/plain": [
       "{'J': 1,\n",
       " 'a': 4,\n",
       " 'b': 1,\n",
       " 'c': 1,\n",
       " 'd': 1,\n",
       " 'e': 8,\n",
       " 'f': 1,\n",
       " 'g': 1,\n",
       " 'h': 2,\n",
       " 'i': 5,\n",
       " 'k': 1,\n",
       " 'l': 3,\n",
       " 'm': 1,\n",
       " 'n': 2,\n",
       " 'o': 1,\n",
       " 'p': 1,\n",
       " 'q': 1,\n",
       " 'r': 2,\n",
       " 's': 2,\n",
       " 't': 4,\n",
       " 'u': 3,\n",
       " 'v': 1,\n",
       " 'w': 1,\n",
       " 'x': 1,\n",
       " 'y': 1,\n",
       " 'z': 1}"
      ]
     },
     "execution_count": 11,
     "metadata": {},
     "output_type": "execute_result"
    }
   ],
   "source": [
    "count_letters"
   ]
  },
  {
   "cell_type": "markdown",
   "metadata": {},
   "source": [
    "# Exercise 1c"
   ]
  },
  {
   "cell_type": "markdown",
   "metadata": {},
   "source": [
    "Instructions\n",
    "\n",
    "    Rewrite your code from 1b to make a function called counter that takes a string input_string and returns a dictionary of letter counts count_letters. If you were unable to complete 1b, you can use the solution by selecting Show Answer.\n",
    "    Use your function to call counter(sentence).\n"
   ]
  },
  {
   "cell_type": "code",
   "execution_count": 12,
   "metadata": {
    "collapsed": true
   },
   "outputs": [],
   "source": [
    "import collections"
   ]
  },
  {
   "cell_type": "code",
   "execution_count": 13,
   "metadata": {
    "collapsed": false
   },
   "outputs": [],
   "source": [
    "def counter(input_string):\n",
    "    count_letters = dict(collections.Counter(input_string))\n",
    "    count_letters.pop(' ')\n",
    "    return count_letters"
   ]
  },
  {
   "cell_type": "code",
   "execution_count": 57,
   "metadata": {
    "collapsed": false
   },
   "outputs": [
    {
     "data": {
      "text/plain": [
       "{'J': 1,\n",
       " 'a': 4,\n",
       " 'b': 1,\n",
       " 'c': 1,\n",
       " 'd': 1,\n",
       " 'e': 8,\n",
       " 'f': 1,\n",
       " 'g': 1,\n",
       " 'h': 2,\n",
       " 'i': 5,\n",
       " 'k': 1,\n",
       " 'l': 3,\n",
       " 'm': 1,\n",
       " 'n': 2,\n",
       " 'o': 1,\n",
       " 'p': 1,\n",
       " 'q': 1,\n",
       " 'r': 2,\n",
       " 's': 2,\n",
       " 't': 4,\n",
       " 'u': 3,\n",
       " 'v': 1,\n",
       " 'w': 1,\n",
       " 'x': 1,\n",
       " 'y': 1,\n",
       " 'z': 1}"
      ]
     },
     "execution_count": 57,
     "metadata": {},
     "output_type": "execute_result"
    }
   ],
   "source": [
    "counter(sentence)"
   ]
  },
  {
   "cell_type": "markdown",
   "metadata": {
    "collapsed": true
   },
   "source": [
    "# Exercise 1d"
   ]
  },
  {
   "cell_type": "markdown",
   "metadata": {},
   "source": [
    "Instructions\n",
    "\n",
    "    Abraham Lincoln was a president during the American Civil War. His famous 1863 Gettysburg Address has been stored as address, and the counter function defined in part 1c has been loaded. Use these to return a dictionary consisting of the count of each letter in this address, and save this as address_count.\n",
    "    Print address_count.\n"
   ]
  },
  {
   "cell_type": "code",
   "execution_count": 16,
   "metadata": {
    "collapsed": true
   },
   "outputs": [],
   "source": [
    "address = 'Four score and seven years ago our fathers brought forth on this continent, a new nation, conceived in Liberty, and dedicated to the proposition that all men are created equal. Now we are engaged in a great civil war, testing whether that nation, or any nation so conceived and so dedicated, can long endure. We are met on a great battle-field of that war. We have come to dedicate a portion of that field, as a final resting place for those who here gave their lives that that nation might live. It is altogether fitting and proper that we should do this. But, in a larger sense, we can not dedicate -- we can not consecrate -- we can not hallow -- this ground. The brave men, living and dead, who struggled here, have consecrated it, far above our poor power to add or detract. The world will little note, nor long remember what we say here, but it can never forget what they did here. It is for us the living, rather, to be dedicated here to the unfinished work which they who fought here have thus far so nobly advanced. It is rather for us to be here dedicated to the great task remaining before us -- that from these honored dead we take increased devotion to that cause for which they gave the last full measure of devotion -- that we here highly resolve that these dead shall not have died in vain -- that this nation, under God, shall have a new birth of freedom -- and that government of the people, by the people, for the people, shall not perish from the earth.'"
   ]
  },
  {
   "cell_type": "code",
   "execution_count": 17,
   "metadata": {
    "collapsed": false,
    "scrolled": true
   },
   "outputs": [
    {
     "data": {
      "text/plain": [
       "'Four score and seven years ago our fathers brought forth on this continent, a new nation, conceived in Liberty, and dedicated to the proposition that all men are created equal. Now we are engaged in a great civil war, testing whether that nation, or any nation so conceived and so dedicated, can long endure. We are met on a great battle-field of that war. We have come to dedicate a portion of that field, as a final resting place for those who here gave their lives that that nation might live. It is altogether fitting and proper that we should do this. But, in a larger sense, we can not dedicate -- we can not consecrate -- we can not hallow -- this ground. The brave men, living and dead, who struggled here, have consecrated it, far above our poor power to add or detract. The world will little note, nor long remember what we say here, but it can never forget what they did here. It is for us the living, rather, to be dedicated here to the unfinished work which they who fought here have thus far so nobly advanced. It is rather for us to be here dedicated to the great task remaining before us -- that from these honored dead we take increased devotion to that cause for which they gave the last full measure of devotion -- that we here highly resolve that these dead shall not have died in vain -- that this nation, under God, shall have a new birth of freedom -- and that government of the people, by the people, for the people, shall not perish from the earth.'"
      ]
     },
     "execution_count": 17,
     "metadata": {},
     "output_type": "execute_result"
    }
   ],
   "source": [
    "address"
   ]
  },
  {
   "cell_type": "code",
   "execution_count": 20,
   "metadata": {
    "collapsed": false
   },
   "outputs": [],
   "source": [
    "address_count = counter(address)"
   ]
  },
  {
   "cell_type": "code",
   "execution_count": 21,
   "metadata": {
    "collapsed": false
   },
   "outputs": [
    {
     "name": "stdout",
     "output_type": "stream",
     "text": [
      "{',': 22, 'f': 26, 'l': 41, 'b': 13, 'W': 2, 'n': 76, 'B': 1, 'G': 1, 'o': 93, 'L': 1, 'w': 26, 'g': 27, '-': 15, 'F': 1, 'h': 80, 'y': 10, 'm': 13, 'N': 1, 'r': 79, 'd': 58, 'i': 65, 'I': 3, 'v': 24, 'e': 165, 't': 124, 'p': 15, 'a': 102, 'q': 1, 'T': 2, 's': 44, '.': 10, 'u': 21, 'k': 3, 'c': 31}\n"
     ]
    }
   ],
   "source": [
    "print(address_count)"
   ]
  },
  {
   "cell_type": "markdown",
   "metadata": {},
   "source": [
    "# Exercise 1e"
   ]
  },
  {
   "cell_type": "markdown",
   "metadata": {},
   "source": [
    "Instructions\n",
    "\n",
    "    The frequency of each letter in the Gettysburg Address is already stored as address_count. Use this dictionary to find the most common letter in the Gettysburg address.\n",
    "    Store this letter as most_frequent_letter, and print your answer.\n"
   ]
  },
  {
   "cell_type": "code",
   "execution_count": 22,
   "metadata": {
    "collapsed": false
   },
   "outputs": [
    {
     "data": {
      "text/plain": [
       "{',': 22,\n",
       " '-': 15,\n",
       " '.': 10,\n",
       " 'B': 1,\n",
       " 'F': 1,\n",
       " 'G': 1,\n",
       " 'I': 3,\n",
       " 'L': 1,\n",
       " 'N': 1,\n",
       " 'T': 2,\n",
       " 'W': 2,\n",
       " 'a': 102,\n",
       " 'b': 13,\n",
       " 'c': 31,\n",
       " 'd': 58,\n",
       " 'e': 165,\n",
       " 'f': 26,\n",
       " 'g': 27,\n",
       " 'h': 80,\n",
       " 'i': 65,\n",
       " 'k': 3,\n",
       " 'l': 41,\n",
       " 'm': 13,\n",
       " 'n': 76,\n",
       " 'o': 93,\n",
       " 'p': 15,\n",
       " 'q': 1,\n",
       " 'r': 79,\n",
       " 's': 44,\n",
       " 't': 124,\n",
       " 'u': 21,\n",
       " 'v': 24,\n",
       " 'w': 26,\n",
       " 'y': 10}"
      ]
     },
     "execution_count": 22,
     "metadata": {},
     "output_type": "execute_result"
    }
   ],
   "source": [
    "address_count"
   ]
  },
  {
   "cell_type": "code",
   "execution_count": 61,
   "metadata": {
    "collapsed": true
   },
   "outputs": [],
   "source": [
    "import operator"
   ]
  },
  {
   "cell_type": "code",
   "execution_count": 62,
   "metadata": {
    "collapsed": false
   },
   "outputs": [],
   "source": [
    "calculate_most_frequent_letter = sorted(address_count.items(), key=operator.itemgetter(1))"
   ]
  },
  {
   "cell_type": "code",
   "execution_count": 63,
   "metadata": {
    "collapsed": false
   },
   "outputs": [
    {
     "data": {
      "text/plain": [
       "[('B', 1),\n",
       " ('G', 1),\n",
       " ('L', 1),\n",
       " ('F', 1),\n",
       " ('N', 1),\n",
       " ('q', 1),\n",
       " ('W', 2),\n",
       " ('T', 2),\n",
       " ('I', 3),\n",
       " ('k', 3),\n",
       " ('y', 10),\n",
       " ('.', 10),\n",
       " ('b', 13),\n",
       " ('m', 13),\n",
       " ('-', 15),\n",
       " ('p', 15),\n",
       " ('u', 21),\n",
       " (',', 22),\n",
       " ('v', 24),\n",
       " ('f', 26),\n",
       " ('w', 26),\n",
       " ('g', 27),\n",
       " ('c', 31),\n",
       " ('l', 41),\n",
       " ('s', 44),\n",
       " ('d', 58),\n",
       " ('i', 65),\n",
       " ('n', 76),\n",
       " ('r', 79),\n",
       " ('h', 80),\n",
       " ('o', 93),\n",
       " ('a', 102),\n",
       " ('t', 124),\n",
       " ('e', 165)]"
      ]
     },
     "execution_count": 63,
     "metadata": {},
     "output_type": "execute_result"
    }
   ],
   "source": [
    "calculate_most_frequent_letter"
   ]
  },
  {
   "cell_type": "code",
   "execution_count": 64,
   "metadata": {
    "collapsed": false
   },
   "outputs": [],
   "source": [
    "most_frequent_letter = calculate_most_frequent_letter[-1][0]"
   ]
  },
  {
   "cell_type": "code",
   "execution_count": 65,
   "metadata": {
    "collapsed": false
   },
   "outputs": [
    {
     "data": {
      "text/plain": [
       "'e'"
      ]
     },
     "execution_count": 65,
     "metadata": {},
     "output_type": "execute_result"
    }
   ],
   "source": [
    "most_frequent_letter"
   ]
  },
  {
   "cell_type": "code",
   "execution_count": 66,
   "metadata": {
    "collapsed": false
   },
   "outputs": [
    {
     "data": {
      "text/plain": [
       "str"
      ]
     },
     "execution_count": 66,
     "metadata": {},
     "output_type": "execute_result"
    }
   ],
   "source": [
    "type(most_frequent_letter)"
   ]
  },
  {
   "cell_type": "markdown",
   "metadata": {},
   "source": [
    "The ratio of the areas of a circle and the square inscribing it is pi / 4. In this six-part exercise, we will find a way to approximate this value."
   ]
  },
  {
   "cell_type": "markdown",
   "metadata": {},
   "source": [
    "# Exercise 2a"
   ]
  },
  {
   "cell_type": "markdown",
   "metadata": {},
   "source": [
    "The ratio of the areas of a circle and the square inscribing it is pi / 4. In this six-part exercise, we will find a way to approximate this value.\n",
    "\n",
    "Instructions\n",
    "\n",
    "    Using the math library, calculate and print the value of pi / 4.\n"
   ]
  },
  {
   "cell_type": "code",
   "execution_count": 1,
   "metadata": {
    "collapsed": false
   },
   "outputs": [
    {
     "name": "stdout",
     "output_type": "stream",
     "text": [
      "0.7853981633974483\n"
     ]
    }
   ],
   "source": [
    "import math\n",
    "print (math.pi/4)"
   ]
  },
  {
   "cell_type": "markdown",
   "metadata": {},
   "source": [
    "# Exercise 2b"
   ]
  },
  {
   "cell_type": "markdown",
   "metadata": {},
   "source": [
    "Instructions\n",
    "\n",
    "    Using random.uniform, create a function rand() that generates a single float between -1 and 1.\n",
    "    Call rand() once. So we can check your solution, we will use random.seed to fix the value called by your function.\n"
   ]
  },
  {
   "cell_type": "code",
   "execution_count": 2,
   "metadata": {
    "collapsed": false
   },
   "outputs": [
    {
     "data": {
      "text/plain": [
       "-0.13458503700285496"
      ]
     },
     "execution_count": 2,
     "metadata": {},
     "output_type": "execute_result"
    }
   ],
   "source": [
    "import random\n",
    "random.uniform(-1,1)"
   ]
  },
  {
   "cell_type": "code",
   "execution_count": 24,
   "metadata": {
    "collapsed": false
   },
   "outputs": [
    {
     "name": "stdout",
     "output_type": "stream",
     "text": [
      "-0.009129825816118098\n"
     ]
    }
   ],
   "source": [
    "import random\n",
    "\n",
    "#random.seed(1) # This line fixes the value called by your function,\n",
    "               # and is used for answer-checking.\n",
    "\n",
    "def rand():\n",
    "   # define `rand` here!\n",
    "   return random.uniform(-1,1)\n",
    "\n",
    "\n",
    "print(rand())"
   ]
  },
  {
   "cell_type": "markdown",
   "metadata": {},
   "source": [
    "# Exercise 2c"
   ]
  },
  {
   "cell_type": "markdown",
   "metadata": {},
   "source": [
    "Instructions\n",
    "\n",
    "    The distance between two points x and y is the square root of the sum of squared differences along each dimension of x and y. Create a function distance(x, y) that takes two vectors and outputs the distance between them. Use your function to find the distance between x=(0,0) and y=(1,1).\n",
    "    Print your answer.\n"
   ]
  },
  {
   "cell_type": "code",
   "execution_count": 13,
   "metadata": {
    "collapsed": false
   },
   "outputs": [
    {
     "name": "stdout",
     "output_type": "stream",
     "text": [
      "1.4142135623730951\n"
     ]
    }
   ],
   "source": [
    "import math\n",
    "\n",
    "def distance(x, y):\n",
    "    distance = math.sqrt((y[1]-x[1])**2 + (y[0]-x[0])**2)\n",
    "    return distance\n",
    "    \n",
    "x=(0,0)\n",
    "y=(1,1)\n",
    "print(distance(x,y))"
   ]
  },
  {
   "cell_type": "markdown",
   "metadata": {},
   "source": [
    "# Exercise 2d"
   ]
  },
  {
   "cell_type": "markdown",
   "metadata": {},
   "source": [
    "Instructions\n",
    "\n",
    "    distance(x, y) is pre-loaded from part 2c. Write a function in_circle(x, origin) that determines whether a two-dimensional point falls within a unit circle surrounding a given origin. Your function should return a boolean that is True if the distance between x and origin is less than 1, and False otherwise.\n",
    "    Use your function to determine whether the point (1,1) lies within the unit circle centered at (0,0).\n",
    "    Print your answer.\n"
   ]
  },
  {
   "cell_type": "code",
   "execution_count": 56,
   "metadata": {
    "collapsed": false
   },
   "outputs": [],
   "source": [
    "import random, math\n",
    "\n",
    "random.seed(1)\n",
    "def in_circle(x, origin = [0]*2):\n",
    "    if distance(x, origin) < 1:\n",
    "        return True\n",
    "    else:\n",
    "        return False"
   ]
  },
  {
   "cell_type": "code",
   "execution_count": 57,
   "metadata": {
    "collapsed": false
   },
   "outputs": [
    {
     "name": "stdout",
     "output_type": "stream",
     "text": [
      "False\n"
     ]
    }
   ],
   "source": [
    "x = (1,1)\n",
    "print(in_circle(x, origin = [0]*2))"
   ]
  },
  {
   "cell_type": "markdown",
   "metadata": {},
   "source": [
    "# Exercise 2e"
   ]
  },
  {
   "cell_type": "markdown",
   "metadata": {},
   "source": [
    "Instructions\n",
    "\n",
    "    Create a list of R=10000 booleans called inside that determines whether each point in x falls within the unit circle centered at (0,0). Make sure to use in_circle.\n",
    "    Find the proportion of points within the circle by summing the count of True in inside, and dividing by R.\n",
    "    Print your answer. This proportion is an estimate of the ratio of the two areas!\n"
   ]
  },
  {
   "cell_type": "code",
   "execution_count": 59,
   "metadata": {
    "collapsed": false
   },
   "outputs": [
    {
     "name": "stdout",
     "output_type": "stream",
     "text": [
      "0.7741\n"
     ]
    }
   ],
   "source": [
    "R = 10000\n",
    "x = []\n",
    "inside = []\n",
    "for i in range(R):\n",
    "    point = [rand(), rand()]\n",
    "    x.append(point)\n",
    "    # Enter your code here! #\n",
    "    #print(x)\n",
    "    inside.append(in_circle(x[i], origin = [0]*2))\n",
    "\n",
    "print(sum(inside)/R)"
   ]
  },
  {
   "cell_type": "markdown",
   "metadata": {
    "collapsed": true
   },
   "source": [
    "# Exercise 2f"
   ]
  },
  {
   "cell_type": "markdown",
   "metadata": {
    "collapsed": true
   },
   "source": [
    "Instructions\n",
    "\n",
    "    Note: inside and R are defined as in Exercise 2e. Recall that the true ratio of the area of the unit circle to the area to the inscribing square is pi / 4.\n",
    "    Find the difference between your estimate from part 2e and math.pi / 4.\n",
    "    Print your answer.\n"
   ]
  },
  {
   "cell_type": "code",
   "execution_count": 3,
   "metadata": {
    "collapsed": false
   },
   "outputs": [
    {
     "ename": "NameError",
     "evalue": "name 'math' is not defined",
     "traceback": [
      "\u001b[0;31m---------------------------------------------------------------------------\u001b[0m",
      "\u001b[0;31mNameError\u001b[0m                                 Traceback (most recent call last)",
      "\u001b[0;32m<ipython-input-3-27db1ff3f1f7>\u001b[0m in \u001b[0;36m<module>\u001b[0;34m()\u001b[0m\n\u001b[0;32m----> 1\u001b[0;31m \u001b[0mprint\u001b[0m\u001b[1;33m(\u001b[0m\u001b[0mmath\u001b[0m\u001b[1;33m.\u001b[0m\u001b[0mpi\u001b[0m\u001b[1;33m/\u001b[0m\u001b[1;36m4\u001b[0m \u001b[1;33m-\u001b[0m \u001b[0msum\u001b[0m\u001b[1;33m(\u001b[0m\u001b[0minside\u001b[0m\u001b[1;33m)\u001b[0m\u001b[1;33m/\u001b[0m\u001b[0mR\u001b[0m\u001b[1;33m)\u001b[0m\u001b[1;33m\u001b[0m\u001b[0m\n\u001b[0m",
      "\u001b[0;31mNameError\u001b[0m: name 'math' is not defined"
     ],
     "output_type": "error"
    }
   ],
   "source": [
    "print(math.pi/4 - sum(inside)/R)"
   ]
  },
  {
   "cell_type": "markdown",
   "metadata": {},
   "source": [
    "A list of numbers can be very unsmooth, meaning very high numbers can be right next to very low numbers. This list may represent a smooth path in reality that is masked with random noise (for example, satellite trajectories with inaccurate transmission). One way to smooth the values in the list is to replace each value with the average of each value's neighbors, including the value itself."
   ]
  },
  {
   "cell_type": "markdown",
   "metadata": {},
   "source": [
    "# Exercise 3a"
   ]
  },
  {
   "cell_type": "markdown",
   "metadata": {},
   "source": [
    "Instructions\n",
    "\n",
    "\n",
    "    Write a function moving_window_average(x, n_neighbors) that takes a list x and the number of neighbors n_neighbors on either side of a given member of the list to consider.\n",
    "    For each value in x, moving_window_average(x, n_neighbors) computes the average of that value's neighbors, where neighbors includes the value itself.\n",
    "    moving_window_average should return a list of averaged values that is the same length as the original list.\n",
    "    If there are not enough neighbors (for cases near the edge), substitute the original value as many times as there \n",
    "    are missing neighbors.\n",
    "    Use your function to find the moving window sum of x=[0,10,5,3,1,5] and n_neighbors=1.\n"
   ]
  },
  {
   "cell_type": "code",
   "execution_count": 5,
   "metadata": {
    "collapsed": false
   },
   "outputs": [],
   "source": [
    "# 2nd method\n",
    "\n",
    "import random\n",
    "\n",
    "random.seed(1)\n",
    "\n",
    "def moving_window_average(x, n_neighbors=1):\n",
    "    n = len(x)\n",
    "    width = n_neighbors*2 + 1\n",
    "    x = [x[0]]*n_neighbors + x + [x[-1]]*n_neighbors\n",
    "    # To complete the function,\n",
    "    # return a list of the mean of values from i to i+width for all values i from 0 to n-1.\n",
    "    meanValues = []\n",
    "    for i in range(1, n+1):\n",
    "        meanValues.append((x[i-1] + x[i] + x[i+1])/width)\n",
    "    return meanValues"
   ]
  },
  {
   "cell_type": "code",
   "execution_count": 6,
   "metadata": {
    "collapsed": false
   },
   "outputs": [
    {
     "name": "stdout",
     "output_type": "stream",
     "text": [
      "[3.3333333333333335, 5.0, 6.0, 3.0, 3.0, 3.6666666666666665]\n"
     ]
    }
   ],
   "source": [
    "x=[0,10,5,3,1,5]\n",
    "print(moving_window_average(x, 1))"
   ]
  },
  {
   "cell_type": "markdown",
   "metadata": {
    "collapsed": true
   },
   "source": [
    "# Exercise 3b"
   ]
  },
  {
   "cell_type": "markdown",
   "metadata": {
    "collapsed": true
   },
   "source": [
    "Instructions\n",
    "\n",
    "    Compute and store R=1000 random values from 0-1 as x.\n",
    "    moving_window_average(x, n_neighbors) is pre-loaded into memory from 3a. Compute the moving window average for x for values of n_neighbors ranging from 1 to 9 inclusive.\n",
    "    Store x as well as each of these averages as consecutive lists in a list called Y.\n"
   ]
  },
  {
   "cell_type": "code",
   "execution_count": 7,
   "metadata": {
    "collapsed": false
   },
   "outputs": [],
   "source": [
    "import random\n",
    "\n",
    "random.seed(1) \n",
    "\n",
    "R = 1000\n",
    "x = []\n",
    "for i in range(R):\n",
    "    num = random.uniform(0,1)\n",
    "    x.append(num)\n",
    "\n",
    "Y = []\n",
    "\n",
    "Y.append(x)\n",
    "\n",
    "for i in range(1,10):\n",
    "    mov_avg = moving_window_average(x, n_neighbors=i)\n",
    "    Y.append(mov_avg)"
   ]
  },
  {
   "cell_type": "markdown",
   "metadata": {
    "collapsed": true
   },
   "source": [
    "# Exercise 3c"
   ]
  },
  {
   "cell_type": "markdown",
   "metadata": {},
   "source": [
    "Instructions\n",
    "\n",
    "    moving_window_average(x, n_neighbors=2) and Y are already loaded into memory. For each list in Y, calculate and store the range (the maximum minus the minimum) in a new list ranges.\n",
    "    Print your answer. As the window width increases, does the range of each list increase or decrease? Why do you think that is?\n"
   ]
  },
  {
   "cell_type": "code",
   "execution_count": 8,
   "metadata": {
    "collapsed": false
   },
   "outputs": [],
   "source": [
    "ranges = []\n",
    "for i in range(len(Y)):\n",
    "    x = max(Y[i]) - min(Y[i])\n",
    "    ranges.append(x)"
   ]
  },
  {
   "cell_type": "code",
   "execution_count": 9,
   "metadata": {
    "collapsed": false
   },
   "outputs": [
    {
     "name": "stdout",
     "output_type": "stream",
     "text": [
      "[0.9973152343362711, 0.9128390185520854, 0.5477034111312513, 0.391216722236608, 0.3042796728506951, 0.24895609596875057, 0.21065515812740432, 0.1825678037104171, 0.16108923856801508, 0.14413247661348716]\n"
     ]
    }
   ],
   "source": [
    "print(ranges)"
   ]
  }
 ],
 "metadata": {
  "anaconda-cloud": {},
  "kernelspec": {
   "display_name": "Python [conda root]",
   "language": "python",
   "name": "conda-root-py"
  },
  "language_info": {
   "codemirror_mode": {
    "name": "ipython",
    "version": 3.0
   },
   "file_extension": ".py",
   "mimetype": "text/x-python",
   "name": "python",
   "nbconvert_exporter": "python",
   "pygments_lexer": "ipython3",
   "version": "3.5.2"
  }
 },
 "nbformat": 4,
 "nbformat_minor": 0
}